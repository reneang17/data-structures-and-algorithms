{
 "cells": [
  {
   "cell_type": "code",
   "execution_count": 1,
   "metadata": {},
   "outputs": [],
   "source": [
    "from data_structures import LinkedList, Node"
   ]
  },
  {
   "cell_type": "code",
   "execution_count": 70,
   "metadata": {},
   "outputs": [],
   "source": [
    "#cash linked list\n",
    "head= Node(-1)\n",
    "curr = head \n",
    "#cash dict\n",
    "cash_dict = {}\n",
    "#hashmap\n",
    "hashmap ={}\n",
    "cash_count = 0\n",
    "\n",
    "for i in range(5):\n",
    "    #store\n",
    "    hashmap[i]= i+10\n",
    "    \n",
    "    node = Node(i)\n",
    "    cash_dict[i] = node\n",
    "    curr.next = node\n",
    "    curr = curr.next\n",
    "    cash_count+1\n",
    "curr = [curr]"
   ]
  },
  {
   "cell_type": "code",
   "execution_count": 71,
   "metadata": {},
   "outputs": [
    {
     "name": "stdout",
     "output_type": "stream",
     "text": [
      "{0: 10, 1: 11, 2: 12, 3: 13, 4: 14}\n",
      "{0: <data_structures.Linked_list.Node object at 0x10bc75e10>, 1: <data_structures.Linked_list.Node object at 0x10bc97278>, 2: <data_structures.Linked_list.Node object at 0x10bc97748>, 3: <data_structures.Linked_list.Node object at 0x10bc970b8>, 4: <data_structures.Linked_list.Node object at 0x10bc974e0>}\n"
     ]
    }
   ],
   "source": [
    "print(hashmap)\n",
    "print(cash_dict)"
   ]
  },
  {
   "cell_type": "code",
   "execution_count": 72,
   "metadata": {},
   "outputs": [
    {
     "name": "stdout",
     "output_type": "stream",
     "text": [
      "-1\n",
      "0\n",
      "1\n",
      "2\n",
      "3\n",
      "4\n"
     ]
    }
   ],
   "source": [
    "# Lets check cash\n",
    "aux = head\n",
    "while aux:\n",
    "    print(aux.value)\n",
    "    aux = aux.next"
   ]
  },
  {
   "cell_type": "code",
   "execution_count": 73,
   "metadata": {},
   "outputs": [],
   "source": [
    "#Now suppose we call 2, we use it and put it back on the queue\n",
    "def get_(j):\n",
    "    aux = curr\n",
    "    if j in hashmap:\n",
    "        if cash_dict[j].next == None:\n",
    "            return hashmap[j]\n",
    "        elif cash_dict[j].next.next == None:\n",
    "            tmp =cash_dict[j].value\n",
    "            node = Node(tmp)\n",
    "            aux[0].next = node\n",
    "            aux[0] = aux[0].next \n",
    "            cash_dict[j].value, cash_dict[j].next = cash_dict[j].next.value, node\n",
    "        #else:\n",
    "        #    tmp =cash_dict[j].value\n",
    "        #    node = Node(tmp)\n",
    "        #    aux[0].next = node\n",
    "        #    aux[0] = aux[0].next \n",
    "        #    cash_dict[j].value, cash_dict[j].next = cash_dict[j].next.value, node\n",
    "\n",
    "        else:\n",
    "            tmp =cash_dict[j].value\n",
    "            cash_dict[j].value = cash_dict[j].next.value\n",
    "            cash_dict[j].next = cash_dict[j].next.next\n",
    "            aux[0].next = Node(tmp)\n",
    "            aux[0]= aux[0].next\n",
    "            \n",
    "        \n",
    "        return hashmap[j]\n",
    "    else: return -1"
   ]
  },
  {
   "cell_type": "code",
   "execution_count": 74,
   "metadata": {},
   "outputs": [
    {
     "name": "stdout",
     "output_type": "stream",
     "text": [
      "get:  13\n",
      "-1\n",
      "0\n",
      "1\n",
      "2\n",
      "4\n",
      "3\n"
     ]
    }
   ],
   "source": [
    "print('get: ', get_(3))\n",
    "# Lets check cash\n",
    "aux = head\n",
    "while aux:\n",
    "    print(aux.value)\n",
    "    aux = aux.next\n"
   ]
  },
  {
   "cell_type": "code",
   "execution_count": 75,
   "metadata": {},
   "outputs": [],
   "source": [
    "def put_(i,value):\n",
    "    aux = curr\n",
    "    if len(cash_dict)== 5 and i != aux[0].value:\n",
    "        key_to_deleted = head.next.value\n",
    "        head.next = head.next.next\n",
    "\n",
    "        del cash_dict[key_to_deleted]\n",
    "        del hashmap[key_to_deleted]\n",
    "        \n",
    "        node = Node(i)\n",
    "        cash_dict[i] = node\n",
    "        aux[0].next = node\n",
    "        aux[0] = aux[0].next\n",
    "    hashmap[i]= value"
   ]
  },
  {
   "cell_type": "code",
   "execution_count": 76,
   "metadata": {},
   "outputs": [
    {
     "name": "stdout",
     "output_type": "stream",
     "text": [
      "-1\n",
      "1\n",
      "2\n",
      "4\n",
      "3\n",
      "6\n"
     ]
    }
   ],
   "source": [
    "put_(6, 'gato')\n",
    "\n",
    "aux = head\n",
    "while aux:\n",
    "    print(aux.value)\n",
    "    aux = aux.next"
   ]
  },
  {
   "cell_type": "code",
   "execution_count": 77,
   "metadata": {},
   "outputs": [
    {
     "name": "stdout",
     "output_type": "stream",
     "text": [
      "{1: 11, 2: 12, 3: 13, 4: 14, 6: 'gato'}\n",
      "{1: <data_structures.Linked_list.Node object at 0x10bc97278>, 2: <data_structures.Linked_list.Node object at 0x10bc97748>, 3: <data_structures.Linked_list.Node object at 0x10bc970b8>, 4: <data_structures.Linked_list.Node object at 0x10bc974e0>, 6: <data_structures.Linked_list.Node object at 0x10bc75e10>}\n"
     ]
    }
   ],
   "source": [
    "print(hashmap)\n",
    "print(cash_dict)"
   ]
  },
  {
   "cell_type": "code",
   "execution_count": null,
   "metadata": {},
   "outputs": [],
   "source": []
  },
  {
   "cell_type": "code",
   "execution_count": 78,
   "metadata": {},
   "outputs": [
    {
     "name": "stdout",
     "output_type": "stream",
     "text": [
      "-1\n",
      "1\n",
      "2\n",
      "4\n",
      "3\n",
      "6\n"
     ]
    }
   ],
   "source": [
    "put_(6, '4ato')\n",
    "\n",
    "aux = head\n",
    "while aux:\n",
    "    print(aux.value)\n",
    "    aux = aux.next"
   ]
  },
  {
   "cell_type": "code",
   "execution_count": 79,
   "metadata": {},
   "outputs": [
    {
     "name": "stdout",
     "output_type": "stream",
     "text": [
      "{1: 11, 2: 12, 3: 13, 4: 14, 6: '4ato'}\n",
      "{1: <data_structures.Linked_list.Node object at 0x10bc97278>, 2: <data_structures.Linked_list.Node object at 0x10bc97748>, 3: <data_structures.Linked_list.Node object at 0x10bc970b8>, 4: <data_structures.Linked_list.Node object at 0x10bc974e0>, 6: <data_structures.Linked_list.Node object at 0x10bc75e10>}\n"
     ]
    }
   ],
   "source": [
    "print(hashmap)\n",
    "print(cash_dict)"
   ]
  },
  {
   "cell_type": "code",
   "execution_count": 82,
   "metadata": {},
   "outputs": [
    {
     "name": "stdout",
     "output_type": "stream",
     "text": [
      "get:  -1\n",
      "-1\n",
      "2\n",
      "4\n",
      "3\n",
      "6\n",
      "7\n"
     ]
    }
   ],
   "source": [
    "print('get: ', get_(1))\n",
    "# Lets check cash\n",
    "aux = head\n",
    "while aux:\n",
    "    print(aux.value)\n",
    "    aux = aux.next"
   ]
  },
  {
   "cell_type": "code",
   "execution_count": 83,
   "metadata": {},
   "outputs": [
    {
     "name": "stdout",
     "output_type": "stream",
     "text": [
      "-1\n",
      "2\n",
      "4\n",
      "3\n",
      "6\n",
      "7\n"
     ]
    }
   ],
   "source": [
    "put_(7, 'last')\n",
    "\n",
    "aux = head\n",
    "while aux:\n",
    "    print(aux.value)\n",
    "    aux = aux.next"
   ]
  },
  {
   "cell_type": "code",
   "execution_count": null,
   "metadata": {},
   "outputs": [],
   "source": []
  },
  {
   "cell_type": "code",
   "execution_count": null,
   "metadata": {},
   "outputs": [],
   "source": []
  }
 ],
 "metadata": {
  "kernelspec": {
   "display_name": "Python 3",
   "language": "python",
   "name": "python3"
  },
  "language_info": {
   "codemirror_mode": {
    "name": "ipython",
    "version": 3
   },
   "file_extension": ".py",
   "mimetype": "text/x-python",
   "name": "python",
   "nbconvert_exporter": "python",
   "pygments_lexer": "ipython3",
   "version": "3.7.1"
  }
 },
 "nbformat": 4,
 "nbformat_minor": 2
}
