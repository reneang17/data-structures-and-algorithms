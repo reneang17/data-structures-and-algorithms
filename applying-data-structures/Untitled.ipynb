{
 "cells": [
  {
   "cell_type": "code",
   "execution_count": 643,
   "metadata": {},
   "outputs": [],
   "source": [
    "from data_structures import LinkedList, Node"
   ]
  },
  {
   "cell_type": "code",
   "execution_count": 707,
   "metadata": {},
   "outputs": [],
   "source": [
    "#cash linked list\n",
    "head= Node(-1)\n",
    "curr = head \n",
    "#cash dict\n",
    "cash_dict = {}\n",
    "#hashmap\n",
    "hashmap ={}\n",
    "cash_count = 0\n",
    "curr = [curr]\n",
    "\n",
    "\n"
   ]
  },
  {
   "cell_type": "code",
   "execution_count": 708,
   "metadata": {},
   "outputs": [
    {
     "name": "stdout",
     "output_type": "stream",
     "text": [
      "{}\n",
      "{}\n"
     ]
    }
   ],
   "source": [
    "print(hashmap)\n",
    "print(cash_dict)"
   ]
  },
  {
   "cell_type": "code",
   "execution_count": 709,
   "metadata": {},
   "outputs": [
    {
     "name": "stdout",
     "output_type": "stream",
     "text": [
      "-1\n"
     ]
    }
   ],
   "source": [
    "# Lets check cash\n",
    "aux = head\n",
    "while aux:\n",
    "    print(aux.value)\n",
    "    aux = aux.next"
   ]
  },
  {
   "cell_type": "code",
   "execution_count": 710,
   "metadata": {},
   "outputs": [],
   "source": [
    "def put_(i,value):\n",
    "    aux = curr\n",
    "    if len(cash_dict)== 5 and i != aux[0].value:\n",
    "        key_to_deleted = head.next.value\n",
    "        head.next = head.next.next\n",
    "\n",
    "        del cash_dict[key_to_deleted]\n",
    "        del hashmap[key_to_deleted]\n",
    "        \n",
    "        node = Node(i)\n",
    "        cash_dict[i] = node\n",
    "        aux[0].next = node\n",
    "        aux[0] = aux[0].next\n",
    "    else:\n",
    "        node = Node(i)\n",
    "        cash_dict[i] = node\n",
    "        curr[0].next = node\n",
    "        curr[0] = curr[0].next\n",
    "        cash_count+1\n",
    "        \n",
    "    hashmap[i]= value"
   ]
  },
  {
   "cell_type": "code",
   "execution_count": 711,
   "metadata": {},
   "outputs": [],
   "source": [
    "for i in range(5):\n",
    "    #store\n",
    "    put_(i,i+10)"
   ]
  },
  {
   "cell_type": "code",
   "execution_count": 712,
   "metadata": {},
   "outputs": [
    {
     "name": "stdout",
     "output_type": "stream",
     "text": [
      "-1\n",
      "0\n",
      "1\n",
      "2\n",
      "3\n",
      "4\n"
     ]
    }
   ],
   "source": [
    "aux = head\n",
    "while aux:\n",
    "    print(aux.value)\n",
    "    aux = aux.next"
   ]
  },
  {
   "cell_type": "code",
   "execution_count": 713,
   "metadata": {},
   "outputs": [
    {
     "name": "stdout",
     "output_type": "stream",
     "text": [
      "{0: <data_structures.Linked_list.Node object at 0x108d77ba8>, 1: <data_structures.Linked_list.Node object at 0x108d777b8>, 2: <data_structures.Linked_list.Node object at 0x108d77710>, 3: <data_structures.Linked_list.Node object at 0x108d77400>, 4: <data_structures.Linked_list.Node object at 0x108d772b0>}\n",
      "{0: 10, 1: 11, 2: 12, 3: 13, 4: 14}\n"
     ]
    }
   ],
   "source": [
    "print(cash_dict)\n",
    "print(hashmap)"
   ]
  },
  {
   "cell_type": "code",
   "execution_count": 714,
   "metadata": {},
   "outputs": [],
   "source": [
    "#Now suppose we call 2, we use it and put it back on the queue\n",
    "def get_(j):\n",
    "    aux = curr\n",
    "    if j in hashmap:\n",
    "        if cash_dict[j].next is None:\n",
    "            return hashmap[j]\n",
    "        elif False and cash_dict[j].next is not None and cash_dict[j].next.next is None:\n",
    "            tmp =cash_dict[j].value\n",
    "            \n",
    "            #aux[0].value = cash_dict[j].next.value\n",
    "            #aux[0].next = cash_dict[j].next.next\n",
    "            \n",
    "            cash_dict[j].value = cash_dict[j].next.value\n",
    "            cash_dict[j].next = cash_dict[j].next.next\n",
    "            \n",
    "            del cash_dict[j]\n",
    "            #put_(j,tmp)\n",
    "\n",
    "        else:\n",
    "            tmp =cash_dict[j].value\n",
    "            cash_dict[j].value = cash_dict[j].next.value\n",
    "            cash_dict[j].next = cash_dict[j].next.next\n",
    "            #cash_dict[j] = \n",
    "            del cash_dict[j]\n",
    "            put_(j,tmp)\n",
    "            #aux[0].next = Node(tmp)\n",
    "            #aux[0]= aux[0].next\n",
    "            \n",
    "        \n",
    "        return hashmap[j]\n",
    "    else: return -1"
   ]
  },
  {
   "cell_type": "code",
   "execution_count": null,
   "metadata": {},
   "outputs": [],
   "source": []
  },
  {
   "cell_type": "code",
   "execution_count": 715,
   "metadata": {},
   "outputs": [
    {
     "name": "stdout",
     "output_type": "stream",
     "text": [
      "get:  2\n",
      "-1\n",
      "0\n",
      "1\n",
      "3\n",
      "4\n",
      "2\n",
      "{0: <data_structures.Linked_list.Node object at 0x108d77ba8>, 1: <data_structures.Linked_list.Node object at 0x108d777b8>, 3: <data_structures.Linked_list.Node object at 0x108d77400>, 4: <data_structures.Linked_list.Node object at 0x108d772b0>, 2: <data_structures.Linked_list.Node object at 0x108d77240>}\n"
     ]
    }
   ],
   "source": [
    "print('get: ', get_(2))\n",
    "# Lets check cash\n",
    "aux = head\n",
    "while aux:\n",
    "    print(aux.value)\n",
    "    aux = aux.next\n",
    "print(cash_dict)"
   ]
  },
  {
   "cell_type": "code",
   "execution_count": 719,
   "metadata": {},
   "outputs": [
    {
     "data": {
      "text/plain": [
       "(True, True)"
      ]
     },
     "execution_count": 719,
     "metadata": {},
     "output_type": "execute_result"
    }
   ],
   "source": [
    "cash_dict[2] == curr[0] , cash_dict[4].next == curr[0]"
   ]
  },
  {
   "cell_type": "code",
   "execution_count": 673,
   "metadata": {},
   "outputs": [
    {
     "name": "stdout",
     "output_type": "stream",
     "text": [
      "get:  11\n",
      "-1\n",
      "0\n",
      "3\n",
      "4\n"
     ]
    }
   ],
   "source": [
    "print('get: ', get_(1))\n",
    "# Lets check cash\n",
    "aux = head\n",
    "while aux:\n",
    "    print(aux.value)\n",
    "    aux = aux.next"
   ]
  },
  {
   "cell_type": "code",
   "execution_count": null,
   "metadata": {},
   "outputs": [],
   "source": []
  },
  {
   "cell_type": "code",
   "execution_count": 674,
   "metadata": {},
   "outputs": [
    {
     "name": "stdout",
     "output_type": "stream",
     "text": [
      "-1\n",
      "3\n",
      "4\n",
      "6\n"
     ]
    }
   ],
   "source": [
    "put_(6, 'gato')\n",
    "\n",
    "aux = head\n",
    "while aux:\n",
    "    print(aux.value)\n",
    "    aux = aux.next"
   ]
  },
  {
   "cell_type": "code",
   "execution_count": 374,
   "metadata": {},
   "outputs": [
    {
     "name": "stdout",
     "output_type": "stream",
     "text": [
      "{1: 11, 2: 12, 3: 3, 4: 14, 6: 'gato'}\n",
      "{1: <data_structures.Linked_list.Node object at 0x108a527b8>, 2: <data_structures.Linked_list.Node object at 0x108a52e48>, 4: <data_structures.Linked_list.Node object at 0x108a523c8>, 3: <data_structures.Linked_list.Node object at 0x108a4f0b8>, 6: <data_structures.Linked_list.Node object at 0x108a4f518>}\n"
     ]
    }
   ],
   "source": [
    "print(hashmap)\n",
    "print(cash_dict)"
   ]
  },
  {
   "cell_type": "code",
   "execution_count": null,
   "metadata": {},
   "outputs": [],
   "source": []
  },
  {
   "cell_type": "code",
   "execution_count": 375,
   "metadata": {},
   "outputs": [
    {
     "name": "stdout",
     "output_type": "stream",
     "text": [
      "-1\n",
      "2\n",
      "4\n"
     ]
    }
   ],
   "source": [
    "put_(6, '4ato')\n",
    "\n",
    "aux = head\n",
    "while aux:\n",
    "    print(aux.value)\n",
    "    aux = aux.next"
   ]
  },
  {
   "cell_type": "code",
   "execution_count": 376,
   "metadata": {},
   "outputs": [
    {
     "name": "stdout",
     "output_type": "stream",
     "text": [
      "{1: 11, 2: 12, 3: 3, 4: 14, 6: '4ato'}\n",
      "{1: <data_structures.Linked_list.Node object at 0x108a527b8>, 2: <data_structures.Linked_list.Node object at 0x108a52e48>, 4: <data_structures.Linked_list.Node object at 0x108a523c8>, 3: <data_structures.Linked_list.Node object at 0x108a4f0b8>, 6: <data_structures.Linked_list.Node object at 0x108a4f208>}\n"
     ]
    }
   ],
   "source": [
    "print(hashmap)\n",
    "print(cash_dict)"
   ]
  },
  {
   "cell_type": "code",
   "execution_count": 377,
   "metadata": {},
   "outputs": [
    {
     "name": "stdout",
     "output_type": "stream",
     "text": [
      "get:  2\n",
      "-1\n",
      "6\n"
     ]
    }
   ],
   "source": [
    "print('get: ', get_(1))\n",
    "# Lets check cash\n",
    "aux = head\n",
    "while aux:\n",
    "    print(aux.value)\n",
    "    aux = aux.next"
   ]
  },
  {
   "cell_type": "code",
   "execution_count": 378,
   "metadata": {},
   "outputs": [
    {
     "name": "stdout",
     "output_type": "stream",
     "text": [
      "-1\n"
     ]
    }
   ],
   "source": [
    "put_(7, 'last')\n",
    "\n",
    "aux = head\n",
    "while aux:\n",
    "    print(aux.value)\n",
    "    aux = aux.next"
   ]
  },
  {
   "cell_type": "code",
   "execution_count": null,
   "metadata": {},
   "outputs": [],
   "source": []
  },
  {
   "cell_type": "code",
   "execution_count": null,
   "metadata": {},
   "outputs": [],
   "source": []
  },
  {
   "cell_type": "code",
   "execution_count": null,
   "metadata": {},
   "outputs": [],
   "source": []
  }
 ],
 "metadata": {
  "kernelspec": {
   "display_name": "Python 3",
   "language": "python",
   "name": "python3"
  },
  "language_info": {
   "codemirror_mode": {
    "name": "ipython",
    "version": 3
   },
   "file_extension": ".py",
   "mimetype": "text/x-python",
   "name": "python",
   "nbconvert_exporter": "python",
   "pygments_lexer": "ipython3",
   "version": "3.7.1"
  }
 },
 "nbformat": 4,
 "nbformat_minor": 2
}
