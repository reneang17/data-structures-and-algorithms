{
 "cells": [
  {
   "cell_type": "markdown",
   "metadata": {
    "graffitiCellId": "id_1myd4mr"
   },
   "source": [
    "### Problem statement\n",
    "\n",
    "In an encryption system where ASCII lower case letters represent numbers in the pattern `a=1, b=2, c=3...` and so on, find out all the codes that are possible for a given input number. \n",
    "\n",
    "**Example 1**\n",
    "\n",
    "* `number = 123`\n",
    "* `codes_possible = [\"aw\", \"abc\", \"lc\"]`\n",
    "\n",
    "Explanation: The codes are for the following number:\n",
    "         \n",
    "* 1 . 23     = \"aw\"\n",
    "* 1 . 2 . 3  = \"abc\"\n",
    "* 12 . 3     = \"lc\"\n",
    "    \n",
    "\n",
    "**Example 2**  \n",
    "\n",
    "* `number = 145`\n",
    "* `codes_possible = [\"ade\", \"ne\"]`\n",
    "\n",
    "Return the codes in a list. The order of codes in the list is not important.\n",
    "\n",
    "*Note: you can assume that the input number will not contain any 0s*"
   ]
  },
  {
   "cell_type": "code",
   "execution_count": 96,
   "metadata": {
    "graffitiCellId": "id_92r7s7c"
   },
   "outputs": [
    {
     "data": {
      "text/plain": [
       "'z'"
      ]
     },
     "execution_count": 96,
     "metadata": {},
     "output_type": "execute_result"
    }
   ],
   "source": [
    "def n_to_c(n):\n",
    "    if n == 0:\n",
    "        return ''\n",
    "    if n<27:\n",
    "        start = ord('a')-1\n",
    "        return chr(n + start)\n",
    "    else: \n",
    "        return None\n",
    "n_to_c(26)"
   ]
  },
  {
   "cell_type": "code",
   "execution_count": 97,
   "metadata": {
    "graffitiCellId": "id_v2stglr"
   },
   "outputs": [],
   "source": [
    "def all_codes(number):\n",
    "    \"\"\"\n",
    "    :param: number - input integer\n",
    "    Return - list() of all codes possible for this number\n",
    "    TODO: complete this method and return a list with all possible codes for the input number\n",
    "    \"\"\"\n",
    "    if number ==0:\n",
    "        return [''] #Add nothing\n",
    "    # stoping condition\n",
    "    if number <27:\n",
    "        if number <10:\n",
    "            return [n_to_c(number%10)]\n",
    "        elif number <27:\n",
    "            first = [n_to_c(number//10)+ n_to_c(number%10) ]\n",
    "            second = [ n_to_c(number)]\n",
    "            return first+second\n",
    "    \n",
    "    first= []\n",
    "    second = []\n",
    "    # if next two digits are larger than 27\n",
    "    if number%100 >=27 :\n",
    "        first = [i + n_to_c(number % 10) for i in all_codes(number//10)]\n",
    "    \n",
    "    # if next two digits are smaller than 27\n",
    "    if number%100 <27:\n",
    "        first = [i + n_to_c(number % 10) for i in all_codes(number//10)]\n",
    "        second = [i + n_to_c(number % 100) for i in all_codes(number//100)]\n",
    "\n",
    "    return first+second"
   ]
  },
  {
   "cell_type": "code",
   "execution_count": 100,
   "metadata": {
    "graffitiCellId": "id_lpnw95p"
   },
   "outputs": [],
   "source": [
    "def all_codes(number):\n",
    "    \"\"\"\n",
    "    :param: number - input integer\n",
    "    Return - list() of all codes possible for this number\n",
    "    TODO: complete this method and return a list with all possible codes for the input number\n",
    "    \"\"\"\n",
    "    if number ==0:\n",
    "        return [''] #Add nothing\n",
    "    # stoping condition\n",
    "    if number <27:\n",
    "        if number <10:\n",
    "            return [n_to_c(number%10)]\n",
    "        elif number <27:\n",
    "            first = [n_to_c(number//10)+ n_to_c(number%10) ]\n",
    "            second = [ n_to_c(number)]\n",
    "            return first+second\n",
    "    \n",
    "    first= []\n",
    "    second = []\n",
    "    # if next two digits are larger than 27\n",
    "    if number%100 >=27 :\n",
    "        first = [i + n_to_c(number % 10) for i in all_codes(number//10)]\n",
    "    \n",
    "    # if next two digits are smaller than 27\n",
    "    if number%100 <27:\n",
    "        first = [i + n_to_c(number % 10) for i in all_codes(number//10)]\n",
    "        second = [i + n_to_c(number % 100) for i in all_codes(number//100)]\n",
    "\n",
    "    return first+second"
   ]
  },
  {
   "cell_type": "code",
   "execution_count": 101,
   "metadata": {
    "graffitiCellId": "id_dw8y70q"
   },
   "outputs": [],
   "source": [
    "def all_codes(number):\n",
    "    \"\"\"\n",
    "    :param: number - input integer\n",
    "    Return - list() of all codes possible for this number\n",
    "    TODO: complete this method and return a list with all possible codes for the input number\n",
    "    \"\"\"\n",
    "    #Base case\n",
    "    if number ==0:\n",
    "        return [''] #Add nothing\n",
    "    #Base case\n",
    "    if number <27:\n",
    "        if number <10:\n",
    "            return [n_to_c(number%10)]\n",
    "        elif number <27:\n",
    "            first = [n_to_c(number//10)+ n_to_c(number%10) ]\n",
    "            second = [ n_to_c(number)]\n",
    "            return first+second\n",
    "    \n",
    "    first= []\n",
    "    second = []\n",
    "    # if next two digits are larger than 27\n",
    "    if number%100 >=27 :\n",
    "        first = [i + n_to_c(number % 10) for i in all_codes(number//10)]\n",
    "    \n",
    "    # if next two digits are smaller than 27\n",
    "    if number%100 <27:\n",
    "        first = [i + n_to_c(number % 10) for i in all_codes(number//10)]\n",
    "        second = [i + n_to_c(number % 100) for i in all_codes(number//100)]\n",
    "\n",
    "    return first+second"
   ]
  },
  {
   "cell_type": "markdown",
   "metadata": {
    "graffitiCellId": "id_q8i2zj9"
   },
   "source": [
    "<span class=\"graffiti-highlight graffiti-id_q8i2zj9-id_yrg0ir2\"><i></i><button>Hide Solution</button></span>"
   ]
  },
  {
   "cell_type": "code",
   "execution_count": 102,
   "metadata": {
    "graffitiCellId": "id_yrg0ir2"
   },
   "outputs": [],
   "source": [
    "# Solution\n",
    "\n",
    "def get_alphabet(number):\n",
    "    \"\"\"\n",
    "    Helper function to figure out alphabet of a particular number\n",
    "    Remember: \n",
    "        * ASCII for lower case 'a' = 97\n",
    "        * chr(num) returns ASCII character for a number e.g. chr(65) ==> 'A'\n",
    "    \"\"\"\n",
    "    return chr(number + 96)\n",
    "\n",
    "def all_codes(number):\n",
    "    if number == 0:\n",
    "        return [\"\"]\n",
    "    \n",
    "    # calculation for two right-most digits e.g. if number = 1123, this calculation is meant for 23\n",
    "    remainder = number % 100\n",
    "    output_100 = list()\n",
    "    if remainder <= 26 and number > 9 :\n",
    "        \n",
    "        # get all codes for the remaining number\n",
    "        output_100 = all_codes(number // 100)\n",
    "        alphabet = get_alphabet(remainder)\n",
    "        \n",
    "        for index, element in enumerate(output_100):\n",
    "            output_100[index] = element + alphabet\n",
    "    \n",
    "    # calculation for right-most digit e.g. if number = 1123, this calculation is meant for 3\n",
    "    remainder = number % 10\n",
    "    \n",
    "    # get all codes for the remaining number\n",
    "    output_10 = all_codes(number // 10)\n",
    "    alphabet = get_alphabet(remainder)\n",
    "    \n",
    "    for index, element in enumerate(output_10):\n",
    "        output_10[index] = element + alphabet\n",
    "        \n",
    "    output = list()\n",
    "    output.extend(output_100)\n",
    "    output.extend(output_10)\n",
    "    \n",
    "    return output"
   ]
  },
  {
   "cell_type": "code",
   "execution_count": 103,
   "metadata": {
    "graffitiCellId": "id_byos91q"
   },
   "outputs": [],
   "source": [
    "def test_function(test_case):\n",
    "    number = test_case[0]\n",
    "    solution = test_case[1]\n",
    "    \n",
    "    output = all_codes(number)\n",
    "    \n",
    "    output.sort()\n",
    "    solution.sort()\n",
    "    \n",
    "    if output == solution:\n",
    "        print(\"Pass\")\n",
    "    else:\n",
    "        print(\"Fail\")"
   ]
  },
  {
   "cell_type": "code",
   "execution_count": 104,
   "metadata": {
    "graffitiCellId": "id_l3o11vy"
   },
   "outputs": [
    {
     "name": "stdout",
     "output_type": "stream",
     "text": [
      "Pass\n"
     ]
    }
   ],
   "source": [
    "number = 123\n",
    "solution = ['abc', 'aw', 'lc']\n",
    "test_case = [number, solution]\n",
    "test_function(test_case)"
   ]
  },
  {
   "cell_type": "code",
   "execution_count": 93,
   "metadata": {
    "graffitiCellId": "id_a5y5trj"
   },
   "outputs": [
    {
     "name": "stdout",
     "output_type": "stream",
     "text": [
      "Pass\n"
     ]
    }
   ],
   "source": [
    "number = 145\n",
    "solution =  ['ade', 'ne']\n",
    "test_case = [number, solution]\n",
    "test_function(test_case)"
   ]
  },
  {
   "cell_type": "code",
   "execution_count": 94,
   "metadata": {
    "graffitiCellId": "id_ujafvah"
   },
   "outputs": [
    {
     "name": "stdout",
     "output_type": "stream",
     "text": [
      "Pass\n"
     ]
    }
   ],
   "source": [
    "number = 1145\n",
    "solution =  ['aade', 'ane', 'kde']\n",
    "test_case = [number, solution]\n",
    "test_function(test_case)"
   ]
  },
  {
   "cell_type": "code",
   "execution_count": 95,
   "metadata": {
    "graffitiCellId": "id_6d1dxt9"
   },
   "outputs": [
    {
     "name": "stdout",
     "output_type": "stream",
     "text": [
      "Pass\n"
     ]
    }
   ],
   "source": [
    "number = 4545\n",
    "solution = ['dede']\n",
    "test_case = [number, solution]\n",
    "test_function(test_case)"
   ]
  },
  {
   "cell_type": "code",
   "execution_count": null,
   "metadata": {
    "graffitiCellId": "id_avj8bkb"
   },
   "outputs": [],
   "source": []
  },
  {
   "cell_type": "code",
   "execution_count": null,
   "metadata": {
    "graffitiCellId": "id_ebf1f59"
   },
   "outputs": [],
   "source": []
  }
 ],
 "metadata": {
  "graffiti": {
   "firstAuthorId": "dev",
   "id": "id_kdfaoy8",
   "language": "EN"
  },
  "kernelspec": {
   "display_name": "Python 3",
   "language": "python",
   "name": "python3"
  },
  "language_info": {
   "codemirror_mode": {
    "name": "ipython",
    "version": 3
   },
   "file_extension": ".py",
   "mimetype": "text/x-python",
   "name": "python",
   "nbconvert_exporter": "python",
   "pygments_lexer": "ipython3",
   "version": "3.6.3"
  }
 },
 "nbformat": 4,
 "nbformat_minor": 2
}
